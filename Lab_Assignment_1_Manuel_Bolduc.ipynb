{
 "cells": [
  {
   "cell_type": "markdown",
   "metadata": {},
   "source": [
    "# Assignment 1\n",
    "###  Manuel Bolduc\n",
    "### 260788246"
   ]
  },
  {
   "cell_type": "code",
   "execution_count": 1,
   "metadata": {},
   "outputs": [],
   "source": [
    "import numpy as np\n",
    "from matplotlib import pyplot as plt\n",
    "import math"
   ]
  },
  {
   "cell_type": "markdown",
   "metadata": {},
   "source": [
    "### Poisson Solver Implementation on a square"
   ]
  },
  {
   "cell_type": "code",
   "execution_count": 5,
   "metadata": {},
   "outputs": [],
   "source": [
    "#finite element definition\n",
    "#We want to define finite element triangles \n",
    "#by their corresponding nodes in a square\n",
    "#We work in cartesian coordinates x,y\n",
    "def elem3sq(x,y):\n",
    "    xshape=x.shape[0]\n",
    "    n=2*(xshape-1)**2 #number of finite elements in a convex square\n",
    "    p=np.zeros([xshape-1,2*(xshape-1),3])\n",
    "    for i in range(xshape-1):\n",
    "        for j in range(2*(xshape-1)):\n",
    "            k=i*(xshape)+np.floor(j/2)\n",
    "            if j%2==0:\n",
    "                p[i,j,:]=[k,k+1,k+xshape]\n",
    "            else:\n",
    "                p[i,j,:]=[k+1,k+xshape,k+xshape+1]\n",
    "    p=np.reshape(p,(n,3))\n",
    "    p=np.array(p,dtype='int')\n",
    "    return p\n"
   ]
  },
  {
   "cell_type": "code",
   "execution_count": 28,
   "metadata": {},
   "outputs": [],
   "source": [
    "#Throughout the definition of the various functions, 4 main variables \n",
    "#will appear: x,y,ninit,n (or nnow). The first two are obviously the \n",
    "#possible nodes coordinates. The latter two are used for refining the \n",
    "#grid. ninit represents the initial number of finite elements, and n (nnow) \n",
    "#represents the actual number of finite elements. \n",
    "\n",
    "#Here are my initial test functions: u(x)=sin(x+y), f(x)=2*sin(x+y)\n",
    "def utrue(x,y,ninit,n):\n",
    "    u=np.zeros([len(x),len(y)])\n",
    "    for i in range(len(x)):\n",
    "        for j in range(len(y)):\n",
    "            u[i,j]=np.sin((x[i]+y[j])*ninit/n) #definition of the solution   \n",
    "    return u\n",
    "def f(x,y,ninit,n):\n",
    "    return 2*utrue(x,y,ninit,n) \n",
    "\n",
    "def g(a,b,ninit,n):\n",
    "    return 2*np.sin((a+b)*ninit/n) #g is u on the square boundary\n",
    "\n",
    "\n",
    "\n",
    "#Stiffness Matrix for one triangle\n",
    "#(following the work of Alberty, J. et al.) (p.122)\n",
    "def stima3(M):\n",
    "    g=np.array([[0,0],[1,0],[0,1]])\n",
    "    G=np.dot(np.linalg.inv(M),g)\n",
    "    stima=np.abs(np.linalg.det(M))*np.dot(G,G.transpose())/2\n",
    "    return stima\n",
    "\n",
    "# area of one triangle divided by two\n",
    "def M(xx,yy,vertices):\n",
    "    d=2\n",
    "    M=np.ones([d+1,d+1])\n",
    "    M[1,:]=xx.flatten()[vertices]\n",
    "    M[2,:]=yy.flatten()[vertices]\n",
    "    return M\n",
    "\n",
    "# Mass matrix (Will be useful to compute error norms) \n",
    "#Again, this is following the work of Alberty, J. et al.)(p.127)\n",
    "def massmatrix(M):\n",
    "    G=np.array([[2,1,1],[1,2,1],[1,1,2]])\n",
    "    return 1/24*np.abs(np.linalg.det(M))*G\n",
    "\n",
    "#Dirichlet Boundary conditions on the square\n",
    "#We have g=u on the boundary and 0 in the interior.\n",
    "def dirichletbc(x,y,ninit,n):\n",
    "    uguess=np.zeros([len(x),len(y)])\n",
    "    uguess[0,:]=utrue(x,y,ninit,n)[0,:]\n",
    "    uguess[-1,:]=utrue(x,y,ninit,n)[-1,:]\n",
    "    uguess[:,0]=utrue(x,y,ninit,n)[:,0]\n",
    "    uguess[:,-1]=utrue(x,y,ninit,n)[:,-1]\n",
    "    uflat=uguess.flatten()\n",
    "    return uflat #flattened to implement in the b vector later on\n",
    "\n",
    "#Assembly of full stiffness matrix, b vector and mass matrix\n",
    "#We simply add up the matrices defined for single elements into a bigger\n",
    "#matrix of size n (the number of nodes).\n",
    "def matrixassembly(x,y,ninit,nnow):\n",
    "    elem3=elem3sq(x,y)\n",
    "    n=x.shape[0]**2\n",
    "    xx,yy=np.meshgrid(x,y)\n",
    "    xx=xx*ninit/nnow\n",
    "    yy=yy*ninit/nnow\n",
    "    A=np.zeros([n,n])\n",
    "    MassMatrix=np.zeros([n,n])\n",
    "    b=np.zeros([n])\n",
    "    #Stiffness Matrix\n",
    "    for i in range(2*(x.shape[0]-1)**2):\n",
    "        for j in range(3):\n",
    "            A[elem3[i,:],elem3[i,j]]=A[elem3[i,:],elem3[i,j]]+stima3(M(xx,yy,elem3[i,:]))[j]\n",
    "    \n",
    "    #b vector\n",
    "    for i in range(2*(x.shape[0]-1)**2):\n",
    "        b[elem3[i,:]]=b[elem3[i,:]]+np.abs(np.linalg.det(M(xx,yy,elem3[i,:])))*g(np.sum(xx.flatten()[elem3[i,:]])/3.0,np.sum(yy.flatten()[elem3[i,:]])/3.0,1,1)/6\n",
    "\n",
    "    b=b.transpose()-np.dot(A,dirichletbc(x,y,ninit,nnow))\n",
    "    \n",
    "    #Mass matrix\n",
    "    for i in range(2*(x.shape[0]-1)**2):\n",
    "        for j in range(3):\n",
    "            MassMatrix[elem3[i,:],elem3[i,j]]=MassMatrix[elem3[i,:],elem3[i,j]]+massmatrix(M(xx,yy,elem3[i,:]))[j]\n",
    "    return A, b, MassMatrix\n",
    "\n",
    "# This function gathers all interior nodes in the square\n",
    "def findfreenodes(x,y):\n",
    "    freenodes=[]\n",
    "    xx,yy=np.meshgrid(x,y)\n",
    "    xx=xx.flatten()\n",
    "    yy=yy.flatten()\n",
    "    for i in range(len(xx)):\n",
    "        if xx[i]>0 and xx[i]<len(x)-1:\n",
    "            if yy[i]>0 and yy[i]<len(x)-1:\n",
    "                freenodes.append(i)        \n",
    "    return freenodes\n",
    "\n",
    "#All the functions defined earlier are then called by solver(x,y,ninit,n)\n",
    "#This function returns the numerical approximation to the solution of the\n",
    "#boundary value problem on a grid of size nxn.\n",
    "def solver(x,y,ninit,n):\n",
    "    fn=findfreenodes(x,y)\n",
    "    Afree=np.zeros([len(fn),len(fn)])\n",
    "    A,b,mass=matrixassembly(x,y,ninit,n)\n",
    "    uflat=dirichletbc(x,y,ninit,n)\n",
    "    for i in range(len(fn)):\n",
    "        Afree[0:len(fn),i]=A[fn,fn[i]]\n",
    "\n",
    "    bfree=b[fn]\n",
    "    uflat[fn]=np.dot(np.linalg.inv(Afree),bfree)\n",
    "    ufound=np.reshape(uflat,(len(x),len(y)))\n",
    "    return ufound\n",
    "\n",
    "#This function is used to refine the grid\n",
    "def redrefinement(x,y):\n",
    "    xup=np.linspace(x[0],2*x[-1],2*x.shape[0]-1)\n",
    "    yup=np.linspace(y[0],2*y[-1],2*y.shape[0]-1)\n",
    "    return xup,yup\n",
    "\n"
   ]
  },
  {
   "cell_type": "markdown",
   "metadata": {},
   "source": [
    "### Numerical Experiments part 1,2, and 3"
   ]
  },
  {
   "cell_type": "code",
   "execution_count": 29,
   "metadata": {},
   "outputs": [
    {
     "data": {
      "image/png": "[encoded data removed]",
      "text/plain": [
       "<Figure size 432x288 with 1 Axes>"
      ]
     },
     "metadata": {
      "needs_background": "light"
     },
     "output_type": "display_data"
    },
    {
     "data": {
      "image/png": "[encoded data removed]",
      "text/plain": [
       "<Figure size 432x288 with 2 Axes>"
      ]
     },
     "metadata": {
      "needs_background": "light"
     },
     "output_type": "display_data"
    },
    {
     "data": {
      "image/png": "[encoded data removed]",
      "text/plain": [
       "<Figure size 432x288 with 2 Axes>"
      ]
     },
     "metadata": {
      "needs_background": "light"
     },
     "output_type": "display_data"
    },
    {
     "data": {
      "image/png": "[encoded data removed]",
      "text/plain": [
       "<Figure size 432x288 with 2 Axes>"
      ]
     },
     "metadata": {
      "needs_background": "light"
     },
     "output_type": "display_data"
    },
    {
     "data": {
      "text/plain": [
       "<matplotlib.legend.Legend at 0x114f7e668>"
      ]
     },
     "execution_count": 29,
     "metadata": {},
     "output_type": "execute_result"
    },
    {
     "data": {
      "image/png": "[encoded data removed]",
      "text/plain": [
       "<Figure size 432x288 with 1 Axes>"
      ]
     },
     "metadata": {
      "needs_background": "light"
     },
     "output_type": "display_data"
    }
   ],
   "source": [
    "#Initialize the H1 error and L2 error\n",
    "l2err=np.zeros([4])\n",
    "h1err=np.zeros([4])\n",
    "\n",
    "#Initialize x and y\n",
    "x=np.linspace(0,5,6)\n",
    "y=x\n",
    "\n",
    "#ninit is simply the shape of x (or y)\n",
    "ninit=x.shape[0]\n",
    "\n",
    "#n initially is n init\n",
    "n=x.shape[0]\n",
    "\n",
    "#solve for initial parameters\n",
    "ufound=solver(x,y,ninit,n)\n",
    "plt.imshow(ufound)\n",
    "plt.pause(0.1)\n",
    "\n",
    "#Define the true solution\n",
    "utruee=utrue(x,y,ninit,n)\n",
    "utruee=utruee\n",
    "\n",
    "#Define the error vector\n",
    "v=np.abs(utruee.flatten()-ufound.flatten())\n",
    "\n",
    "#We run the matrixassembly function to compute the H1 and L2 norms\n",
    "A,b,Mass=matrixassembly(x,y,ninit,n)\n",
    "\n",
    "#L2 error is given by v^{T}*M*v\n",
    "l2err[0]=np.dot(v.transpose(),np.dot(Mass,v))\n",
    "\n",
    "#H1 error is fiven by v^{T}*M*v+v^{T}*A*v \n",
    "h1err[0]=np.dot(v.transpose(),np.dot(Mass,v))+np.dot(v.transpose(),np.dot(A,v))\n",
    "\n",
    "#Repeat for a decreasing gridsize (we divide the gridsize in 2 each time)\n",
    "for k in range(3):\n",
    "    n=2*n-1\n",
    "    xup,yup=redrefinement(x,y)\n",
    "    ufound=solver(xup,yup,ninit,n)\n",
    "    ufound=ufound\n",
    "    plt.imshow(ufound)\n",
    "    plt.colorbar()\n",
    "    utruee=utrue(xup,yup,ninit,n)\n",
    "    utruee=utruee\n",
    "    v=np.abs(utruee.flatten()-ufound.flatten())\n",
    "    A,b,Mass=matrixassembly(xup,yup,ninit,n)\n",
    "    l2err[k+1]=np.dot(v.transpose(),np.dot(Mass,v))\n",
    "    h1err[k+1]=np.dot(v.transpose(),np.dot(Mass,v))+np.dot(v.transpose(),np.dot(A,v))\n",
    "    plt.pause(0.1)\n",
    "    x=xup\n",
    "    y=yup\n",
    "    \n",
    "    \n",
    "h=[1,1/2,1/4,1/8] #distance between nodes\n",
    "\n",
    "#Plot\n",
    "plt.plot(h,h1err,label='H1 error')\n",
    "plt.plot(h,l2err,label='L2 error')\n",
    "plt.yscale(\"log\")\n",
    "plt.legend()\n",
    "\n"
   ]
  },
  {
   "cell_type": "code",
   "execution_count": 36,
   "metadata": {},
   "outputs": [
    {
     "data": {
      "text/plain": [
       "4.836145637874689"
      ]
     },
     "execution_count": 36,
     "metadata": {},
     "output_type": "execute_result"
    }
   ],
   "source": [
    "#Order of convergence of the H1 error\n",
    "alpha=0\n",
    "for i in range(3):\n",
    "    alpha+=np.log(np.abs((h1err[i+1]-h1err[i])))/np.log(np.abs(h[i+1]-h[i]))\n",
    "alpha/3"
   ]
  },
  {
   "cell_type": "code",
   "execution_count": 38,
   "metadata": {},
   "outputs": [
    {
     "data": {
      "text/plain": [
       "5.643063851650591"
      ]
     },
     "execution_count": 38,
     "metadata": {},
     "output_type": "execute_result"
    }
   ],
   "source": [
    "#Order of convergence of the L2 error\n",
    "alpha=0\n",
    "for i in range(3):\n",
    "    alpha+=np.log(np.abs((l2err[i+1]-l2err[i])))/np.log(np.abs(h[i+1]-h[i]))\n",
    "alpha/3"
   ]
  },
  {
   "cell_type": "markdown",
   "metadata": {},
   "source": [
    "We observe that the L2 error converges faster than H1, which is consistent with theory. "
   ]
  },
  {
   "cell_type": "markdown",
   "metadata": {},
   "source": [
    "## Part 4: L Shape Implementation"
   ]
  },
  {
   "cell_type": "markdown",
   "metadata": {},
   "source": [
    "In the following cell, I basically implement the same functions as for the convex shape, except that I must take into account the different formulation of the boundary conditions. To implement the L shape, I basically implemented the solver method for three convex squares, and I tweaked the boundaries."
   ]
  },
  {
   "cell_type": "code",
   "execution_count": 44,
   "metadata": {},
   "outputs": [
    {
     "data": {
      "image/png": "[encoded data removed]",
      "text/plain": [
       "<Figure size 432x288 with 1 Axes>"
      ]
     },
     "metadata": {
      "needs_background": "light"
     },
     "output_type": "display_data"
    },
    {
     "data": {
      "image/png": "[encoded data removed]",
      "text/plain": [
       "<Figure size 432x288 with 2 Axes>"
      ]
     },
     "metadata": {
      "needs_background": "light"
     },
     "output_type": "display_data"
    },
    {
     "data": {
      "image/png": "[encoded data removed]",
      "text/plain": [
       "<Figure size 432x288 with 2 Axes>"
      ]
     },
     "metadata": {
      "needs_background": "light"
     },
     "output_type": "display_data"
    },
    {
     "data": {
      "image/png": "[encoded data removed]",
      "text/plain": [
       "<Figure size 432x288 with 2 Axes>"
      ]
     },
     "metadata": {
      "needs_background": "light"
     },
     "output_type": "display_data"
    },
    {
     "data": {
      "text/plain": [
       "<matplotlib.legend.Legend at 0x114f7ef28>"
      ]
     },
     "execution_count": 44,
     "metadata": {},
     "output_type": "execute_result"
    },
    {
     "data": {
      "image/png": "[encoded data removed]",
      "text/plain": [
       "<Figure size 432x288 with 1 Axes>"
      ]
     },
     "metadata": {
      "needs_background": "light"
     },
     "output_type": "display_data"
    }
   ],
   "source": [
    "#Lshapeimplementation\n",
    "#Starting from a square, I generate some sort of L shape\n",
    "\n",
    "def Lshape(x,y):\n",
    "    xL=np.append(x,x+len(x))\n",
    "    xL=np.append(xL,x)\n",
    "    yL=np.append(y,y)\n",
    "    yL=np.append(yL,y+len(y))\n",
    "    xxL=np.append(np.meshgrid(x,y)[0],np.meshgrid(x+len(x),y)[0])\n",
    "    xxL=np.append(xxL,np.meshgrid(x,y)[0])\n",
    "    yyL=np.append(np.meshgrid(x,y)[1],np.meshgrid(x,y)[1])\n",
    "    yyL=np.append(yyL,np.meshgrid(x,y+len(y))[1])\n",
    "    return xL,yL,xxL,yyL\n",
    "\n",
    "def uL(x,y):\n",
    "    return np.zeros([2*len(x),2*len(y)])\n",
    "#Here are my initial test functions: u(x)=sin(x+y), f(x)=2*sin(x+y)\n",
    "#Same as before, except I define u over three different squares.\n",
    "def uLtrue(x,y,ninit,n):\n",
    "    u=uL(x,y)\n",
    "    xL,yL,xxL,yyL=Lshape(x,y)\n",
    "    \n",
    "    for i in range(len(x)):\n",
    "        for j in range(len(y)):\n",
    "            u[i,j]=np.sin((xL[i]+yL[j])*ninit/n)\n",
    "    for i in range(len(x),2*len(x)):\n",
    "        for j in range(len(y)):\n",
    "            u[i,j]=np.sin((xL[i]+yL[j])*ninit/n)\n",
    "    for i in range(len(x)):\n",
    "        for j in range(len(y),2*len(y)):\n",
    "            u[i,j]=np.sin((xL[i+len(x)]+yL[j])*ninit/n)\n",
    "    return u\n",
    "\n",
    "#The next functions are exactly as before\n",
    "def f(x,y,ninit,n):\n",
    "    return 2*uLtrue(x,y,ninit,n)\n",
    "\n",
    "def g(a,b,ninit,n):\n",
    "    return 2*np.sin((a+b)*ninit/n)\n",
    "\n",
    "def M(xx,yy,vertices):\n",
    "    d=2\n",
    "    M=np.ones([d+1,d+1])\n",
    "    M[1,:]=xx.flatten()[vertices]\n",
    "    M[2,:]=yy.flatten()[vertices]\n",
    "    return M\n",
    "\n",
    "def stima3(M):\n",
    "    g=np.array([[0,0],[1,0],[0,1]])\n",
    "    G=np.dot(np.linalg.inv(M),g)\n",
    "    stima=np.abs(np.linalg.det(M))*np.dot(G,G.transpose())/2\n",
    "    return stima\n",
    "\n",
    "def massmatrix(M):\n",
    "    G=np.array([[2,1,1],[1,2,1],[1,1,2]])\n",
    "    return 1/24*np.abs(np.linalg.det(M))*G\n",
    "\n",
    "#To implement the L shape boundary conditions, I consider a fourth square\n",
    "#filled with zeros where the corner would be. The rest follows naturally.\n",
    "def Lshapedirichletbc(x,y,ninit,n):\n",
    "    uguess=np.zeros([2*len(x),2*len(y)])\n",
    "    uguess[0,:]=uLtrue(x,y,ninit,n)[0,:]\n",
    "    uguess[-1,:]=uLtrue(x,y,ninit,n)[-1,:]\n",
    "    uguess[:,0]=uLtrue(x,y,ninit,n)[:,0]\n",
    "    uguess[:,-1]=uLtrue(x,y,ninit,n)[:,-1]\n",
    "    uguess[len(x)-1:,len(x)-1:]=uLtrue(x,y,ninit,n)[len(x)-1:,len(x)-1:]\n",
    "    uflat=uguess[:len(x),:len(x)].flatten()\n",
    "    uflat=np.append(uflat,uguess[len(x):,:len(x)].flatten())\n",
    "    uflat=np.append(uflat,uguess[:len(x),len(x):].flatten())\n",
    "    return uflat\n",
    "\n",
    "#This function returns the triangle nodes. I first find the nodes for the\n",
    "#triangles inside the three different squares. Then, I add the extra elements\n",
    "#lying at the junction of the squares.\n",
    "def elem3Lsh(x,y):\n",
    "    xshape=x.shape[0]\n",
    "    nl=np.max(elem3sq(x,y))\n",
    "    n=2*(x.shape[0]-1)**2\n",
    "    p=elem3sq(x,y)\n",
    "    p=np.append(np.append(p,p+nl+1),p+2*nl+2)\n",
    "    \n",
    "    extra=4*(xshape-1)\n",
    "    pextra=np.zeros([extra,3])\n",
    "    for i in range(extra):\n",
    "        if i<extra/2:\n",
    "            if i%2==0:\n",
    "                pextra[i,:]=[(i/2+1)*(xshape)-1,(i/2+2)*(xshape)-1,(i/2+xshape)*xshape]\n",
    "            else:\n",
    "                pextra[i,:]=[((i+1)/2+1)*(xshape)-1,((i-1)/2+xshape)*xshape,((i+1)/2+xshape)*xshape]\n",
    "                \n",
    "        else:\n",
    "            if i%2==0:\n",
    "                k=i-int(extra/2)\n",
    "                pextra[i,:]=[(xshape-1)*xshape+k/2,(xshape-1)*xshape+k/2+1,2*nl+2+k/2]\n",
    "            else:\n",
    "                k=i-int(extra/2)\n",
    "                pextra[i,:]=[(xshape-1)*xshape+(k+1)/2,2*nl+2+(k+1)/2-1,2*nl+2+(k+1)/2]\n",
    "    p=np.append(p,pextra)\n",
    "    p=np.reshape(p,(3*n+extra,3))\n",
    "    p=np.array(p,dtype='int')\n",
    "    return p\n",
    "\n",
    "#Same as in Part 1\n",
    "def Lshapematrixassembly(x,y,ninit,nnow):\n",
    "    elem3=elem3Lsh(x,y)\n",
    "    nl=3*x.shape[0]**2\n",
    "    n=3*2*(x.shape[0]-1)**2+4*(x.shape[0]-1)\n",
    "    xl,yl,xxl,yyl=Lshape(x,y)\n",
    "    xx,yy=np.meshgrid(x,y)\n",
    "    xxl=xxl*ninit/nnow\n",
    "    yyl=yyl*ninit/nnow\n",
    "    A=np.zeros([nl,nl])\n",
    "    MassMatrix=np.zeros([nl,nl])\n",
    "    b=np.zeros([nl])\n",
    "    for i in range(n):\n",
    "        for j in range(3):\n",
    "            A[elem3[i,:],elem3[i,j]]=A[elem3[i,:],elem3[i,j]]+stima3(M(xxl,yyl,elem3[i,:]))[j]\n",
    "\n",
    "    for i in range(n):\n",
    "        b[elem3[i,:]]=b[elem3[i,:]]+np.abs(np.linalg.det(M(xxl,yyl,elem3[i,:])))*g(np.sum(xxl.flatten()[elem3[i,:]])/3.0,np.sum(yyl.flatten()[elem3[i,:]])/3.0,1,1)/6\n",
    "\n",
    "    b=b.transpose()-np.dot(A,Lshapedirichletbc(x,y,ninit,nnow))\n",
    "    \n",
    "    for i in range(n):\n",
    "        for j in range(3):\n",
    "            MassMatrix[elem3[i,:],elem3[i,j]]=MassMatrix[elem3[i,:],elem3[i,j]]+massmatrix(M(xxl,yyl,elem3[i,:]))[j]\n",
    "    return A, b, MassMatrix\n",
    "\n",
    "# there's new possibilities for free nodes now at boundaries of the squares.\n",
    "def Lshapefindfreenodes(x,y):\n",
    "    freenodes=[]\n",
    "    xl,yl,xxl,yyl=Lshape(x,y)\n",
    "    xx,yy=np.meshgrid(x,y)\n",
    "    xxl=xxl.flatten()\n",
    "    yyl=yyl.flatten()\n",
    "    for i in range(len(xxl)):\n",
    "        if xxl[i]>0 and xxl[i]<(2*len(x)-1):\n",
    "            if yyl[i]>0 and yyl[i]<(2*len(x)-1):\n",
    "                if xxl[i]!=(len(x)-1) and yyl[i]!=(len(x)-1):\n",
    "                    freenodes.append(i)  \n",
    "                elif xxl[i]==(len(x)-1):\n",
    "                    if yyl[i]<(len(x)-1):\n",
    "                        freenodes.append(i)\n",
    "                elif yyl[i]==(len(x)-1):\n",
    "                    if xxl[i]<(len(x)-1):\n",
    "                        freenodes.append(i)\n",
    "    return freenodes\n",
    "\n",
    "def Lsolver(x,y,ninit,n):\n",
    "    fn=Lshapefindfreenodes(x,y)\n",
    "    Afree=np.zeros([len(fn),len(fn)])\n",
    "    A,b,mass=Lshapematrixassembly(x,y,ninit,n)\n",
    "    uflat=Lshapedirichletbc(x,y,ninit,n)\n",
    "    for i in range(len(fn)):\n",
    "        Afree[0:len(fn),i]=A[fn,fn[i]]\n",
    "\n",
    "    bfree=b[fn]\n",
    "    uflat[fn]=np.dot(np.linalg.inv(Afree),bfree)\n",
    "    ufound=np.zeros([2*len(x),2*len(y)])\n",
    "    ufound[:len(x),:len(y)]=np.reshape(uflat[:len(x)**2],(len(x),len(y)))\n",
    "    ufound[len(x):,:len(y)]=np.reshape(uflat[len(x)**2:2*len(x)**2],(len(x),len(y)))\n",
    "    ufound[:len(x),len(y):]=np.reshape(uflat[2*len(x)**2:3*len(x)**2],(len(x),len(y)))\n",
    "    return ufound\n",
    "\n",
    "\n",
    "# We repeat the computation for the L2 and H1 error on grids with \n",
    "# decreasing mesh sizes.\n",
    "\n",
    "l2err=np.zeros([4])\n",
    "h1err=np.zeros([4])\n",
    "x=np.linspace(0,2,3)\n",
    "y=x\n",
    "ninit=x.shape[0]\n",
    "n=x.shape[0]\n",
    "ufound=Lsolver(x,y,ninit,n)\n",
    "plt.imshow(ufound)\n",
    "plt.pause(0.1)\n",
    "utruee=uLtrue(x,y,ninit,n)\n",
    "utruee=utruee\n",
    "v=np.abs(utruee.flatten()-ufound.flatten())[:3*n**2]\n",
    "A,b,Mass=Lshapematrixassembly(x,y,ninit,n)\n",
    "l2err[0]=np.dot(v.transpose(),np.dot(Mass,v))\n",
    "h1err[0]=np.dot(v.transpose(),np.dot(Mass,v))+np.dot(v.transpose(),np.dot(A,v))\n",
    "for k in range(3):\n",
    "    n=2*n-1\n",
    "    xup,yup=redrefinement(x,y)\n",
    "    ufound=Lsolver(xup,yup,ninit,n)\n",
    "    ufound=ufound\n",
    "    plt.imshow(ufound)\n",
    "    plt.colorbar()\n",
    "    utruee=uLtrue(xup,yup,ninit,n)\n",
    "    utruee=utruee\n",
    "    v=np.abs(utruee.flatten()-ufound.flatten())[:3*n**2]\n",
    "    A,b,Mass=Lshapematrixassembly(xup,yup,ninit,n)\n",
    "    l2err[k+1]=np.dot(v.transpose(),np.dot(Mass,v))\n",
    "    h1err[k+1]=np.dot(v.transpose(),np.dot(Mass,v))+np.dot(v.transpose(),np.dot(A,v))\n",
    "    plt.pause(0.1)\n",
    "    x=xup\n",
    "    y=yup\n",
    "    \n",
    "h=[1,1/2,1/4,1/8] #distance between nodes\n",
    "plt.plot(h,h1err,label='H1 error')\n",
    "plt.plot(h,l2err,label='L2 error')\n",
    "plt.yscale(\"log\")\n",
    "plt.legend()\n",
    "\n"
   ]
  },
  {
   "cell_type": "markdown",
   "metadata": {},
   "source": [
    "Clearly, something is going wrong with my implementation of the L shape. I am not exactly sure what is happening, but it seems as the lines of data located at the junctions between the squares are staying at 0. This is clearly what is driving the H1 error and L2 error to grow as the mesh size decreases. "
   ]
  },
  {
   "cell_type": "markdown",
   "metadata": {},
   "source": [
    "## Part 5: $r^{a}\\sin(a\\theta)$"
   ]
  },
  {
   "cell_type": "code",
   "execution_count": 48,
   "metadata": {},
   "outputs": [
    {
     "data": {
      "image/png": "[encoded data removed]",
      "text/plain": [
       "<Figure size 432x288 with 1 Axes>"
      ]
     },
     "metadata": {
      "needs_background": "light"
     },
     "output_type": "display_data"
    },
    {
     "data": {
      "image/png": "[encoded data removed]",
      "text/plain": [
       "<Figure size 432x288 with 2 Axes>"
      ]
     },
     "metadata": {
      "needs_background": "light"
     },
     "output_type": "display_data"
    },
    {
     "data": {
      "image/png": "[encoded data removed]",
      "text/plain": [
       "<Figure size 432x288 with 2 Axes>"
      ]
     },
     "metadata": {
      "needs_background": "light"
     },
     "output_type": "display_data"
    },
    {
     "data": {
      "image/png": "[encoded data removed]",
      "text/plain": [
       "<Figure size 432x288 with 2 Axes>"
      ]
     },
     "metadata": {
      "needs_background": "light"
     },
     "output_type": "display_data"
    },
    {
     "data": {
      "text/plain": [
       "<matplotlib.legend.Legend at 0x11842f320>"
      ]
     },
     "execution_count": 48,
     "metadata": {},
     "output_type": "execute_result"
    },
    {
     "data": {
      "image/png": "[encoded data removed]",
      "text/plain": [
       "<Figure size 432x288 with 1 Axes>"
      ]
     },
     "metadata": {
      "needs_background": "light"
     },
     "output_type": "display_data"
    }
   ],
   "source": [
    "#we simply change our initial function and use the same code as before. \n",
    "\n",
    "\n",
    "\n",
    "def Lshape(x,y):\n",
    "    xL=np.append(x,x+len(x))\n",
    "    xL=np.append(xL,x)\n",
    "    yL=np.append(y,y)\n",
    "    yL=np.append(yL,y+len(y))\n",
    "    xxL=np.append(np.meshgrid(x,y)[0],np.meshgrid(x+len(x),y)[0])\n",
    "    xxL=np.append(xxL,np.meshgrid(x,y)[0])\n",
    "    yyL=np.append(np.meshgrid(x,y)[1],np.meshgrid(x,y)[1])\n",
    "    yyL=np.append(yyL,np.meshgrid(x,y+len(y))[1])\n",
    "    return xL,yL,xxL,yyL\n",
    "\n",
    "def uL(x,y):\n",
    "    return np.zeros([2*len(x),2*len(y)])\n",
    "#Here are my initial test functions: u(x)=sin(x+y), f(x)=2*sin(x+y)\n",
    "#Same as before, except I define u over three different squares.\n",
    "def r(x,y):\n",
    "    r=np.sqrt(x**2+y**2)\n",
    "    return r\n",
    "def theta(x,y):\n",
    "    return np.arctan2(y,x)\n",
    "\n",
    "def uLtrue(x,y,ninit,n):\n",
    "    a=2/3\n",
    "    u=uL(x,y)\n",
    "    xL,yL,xxL,yyL=Lshape(x,y)\n",
    "    xL=xL*ninit/n\n",
    "    yL=yL*ninit/n\n",
    "    for i in range(len(x)):\n",
    "        for j in range(len(y)):\n",
    "            u[i,j]=r(xL[i],yL[j])**a*np.sin(a*theta(xL[i],yL[j]))\n",
    "    for i in range(len(x),2*len(x)):\n",
    "        for j in range(len(y)):\n",
    "            u[i,j]=r(xL[i],yL[j])**a*np.sin(a*theta(xL[i],yL[j]))\n",
    "    for i in range(len(x)):\n",
    "        for j in range(len(y),2*len(y)):\n",
    "            u[i,j]=r(xL[i+len(x)],yL[j])**a*np.sin(a*theta(xL[i+len(x)],yL[j]))\n",
    "    return u\n",
    "\n",
    "#The next functions are exactly as before\n",
    "def f(x,y,ninit,n):\n",
    "    return 2*uLtrue(x,y,ninit,n)\n",
    "\n",
    "def g(a,b,ninit,n):\n",
    "    return 2*np.sin((a+b)*ninit/n)\n",
    "\n",
    "def M(xx,yy,vertices):\n",
    "    d=2\n",
    "    M=np.ones([d+1,d+1])\n",
    "    M[1,:]=xx.flatten()[vertices]\n",
    "    M[2,:]=yy.flatten()[vertices]\n",
    "    return M\n",
    "\n",
    "def stima3(M):\n",
    "    g=np.array([[0,0],[1,0],[0,1]])\n",
    "    G=np.dot(np.linalg.inv(M),g)\n",
    "    stima=np.abs(np.linalg.det(M))*np.dot(G,G.transpose())/2\n",
    "    return stima\n",
    "\n",
    "def massmatrix(M):\n",
    "    G=np.array([[2,1,1],[1,2,1],[1,1,2]])\n",
    "    return 1/24*np.abs(np.linalg.det(M))*G\n",
    "\n",
    "#To implement the L shape boundary conditions, I consider a fourth square\n",
    "#filled with zeros where the corner would be. The rest follows naturally.\n",
    "def Lshapedirichletbc(x,y,ninit,n):\n",
    "    uguess=np.zeros([2*len(x),2*len(y)])\n",
    "    uguess[0,:]=uLtrue(x,y,ninit,n)[0,:]\n",
    "    uguess[-1,:]=uLtrue(x,y,ninit,n)[-1,:]\n",
    "    uguess[:,0]=uLtrue(x,y,ninit,n)[:,0]\n",
    "    uguess[:,-1]=uLtrue(x,y,ninit,n)[:,-1]\n",
    "    uguess[len(x)-1:,len(x)-1:]=uLtrue(x,y,ninit,n)[len(x)-1:,len(x)-1:]\n",
    "    uflat=uguess[:len(x),:len(x)].flatten()\n",
    "    uflat=np.append(uflat,uguess[len(x):,:len(x)].flatten())\n",
    "    uflat=np.append(uflat,uguess[:len(x),len(x):].flatten())\n",
    "    return uflat\n",
    "\n",
    "#This function returns the triangle nodes. I first find the nodes for the\n",
    "#triangles inside the three different squares. Then, I add the extra elements\n",
    "#lying at the junction of the squares.\n",
    "def elem3Lsh(x,y):\n",
    "    xshape=x.shape[0]\n",
    "    nl=np.max(elem3sq(x,y))\n",
    "    n=2*(x.shape[0]-1)**2\n",
    "    p=elem3sq(x,y)\n",
    "    p=np.append(np.append(p,p+nl+1),p+2*nl+2)\n",
    "    \n",
    "    extra=4*(xshape-1)\n",
    "    pextra=np.zeros([extra,3])\n",
    "    for i in range(extra):\n",
    "        if i<extra/2:\n",
    "            if i%2==0:\n",
    "                pextra[i,:]=[(i/2+1)*(xshape)-1,(i/2+2)*(xshape)-1,(i/2+xshape)*xshape]\n",
    "            else:\n",
    "                pextra[i,:]=[((i+1)/2+1)*(xshape)-1,((i-1)/2+xshape)*xshape,((i+1)/2+xshape)*xshape]\n",
    "                \n",
    "        else:\n",
    "            if i%2==0:\n",
    "                k=i-int(extra/2)\n",
    "                pextra[i,:]=[(xshape-1)*xshape+k/2,(xshape-1)*xshape+k/2+1,2*nl+2+k/2]\n",
    "            else:\n",
    "                k=i-int(extra/2)\n",
    "                pextra[i,:]=[(xshape-1)*xshape+(k+1)/2,2*nl+2+(k+1)/2-1,2*nl+2+(k+1)/2]\n",
    "    p=np.append(p,pextra)\n",
    "    p=np.reshape(p,(3*n+extra,3))\n",
    "    p=np.array(p,dtype='int')\n",
    "    return p\n",
    "\n",
    "#Same as in Part 1\n",
    "def Lshapematrixassembly(x,y,ninit,nnow):\n",
    "    elem3=elem3Lsh(x,y)\n",
    "    nl=3*x.shape[0]**2\n",
    "    n=3*2*(x.shape[0]-1)**2+4*(x.shape[0]-1)\n",
    "    xl,yl,xxl,yyl=Lshape(x,y)\n",
    "    xx,yy=np.meshgrid(x,y)\n",
    "    xxl=xxl*ninit/nnow\n",
    "    yyl=yyl*ninit/nnow\n",
    "    A=np.zeros([nl,nl])\n",
    "    MassMatrix=np.zeros([nl,nl])\n",
    "    b=np.zeros([nl])\n",
    "    for i in range(n):\n",
    "        for j in range(3):\n",
    "            A[elem3[i,:],elem3[i,j]]=A[elem3[i,:],elem3[i,j]]+stima3(M(xxl,yyl,elem3[i,:]))[j]\n",
    "\n",
    "    for i in range(n):\n",
    "        b[elem3[i,:]]=b[elem3[i,:]]+np.abs(np.linalg.det(M(xxl,yyl,elem3[i,:])))*g(np.sum(xxl.flatten()[elem3[i,:]])/3.0,np.sum(yyl.flatten()[elem3[i,:]])/3.0,1,1)/6\n",
    "\n",
    "    b=b.transpose()-np.dot(A,Lshapedirichletbc(x,y,ninit,nnow))\n",
    "    \n",
    "    for i in range(n):\n",
    "        for j in range(3):\n",
    "            MassMatrix[elem3[i,:],elem3[i,j]]=MassMatrix[elem3[i,:],elem3[i,j]]+massmatrix(M(xxl,yyl,elem3[i,:]))[j]\n",
    "    return A, b, MassMatrix\n",
    "\n",
    "# there's new possibilities for free nodes now at boundaries of the squares.\n",
    "def Lshapefindfreenodes(x,y):\n",
    "    freenodes=[]\n",
    "    xl,yl,xxl,yyl=Lshape(x,y)\n",
    "    xx,yy=np.meshgrid(x,y)\n",
    "    xxl=xxl.flatten()\n",
    "    yyl=yyl.flatten()\n",
    "    for i in range(len(xxl)):\n",
    "        if xxl[i]>0 and xxl[i]<(2*len(x)-1):\n",
    "            if yyl[i]>0 and yyl[i]<(2*len(x)-1):\n",
    "                if xxl[i]!=(len(x)-1) and yyl[i]!=(len(x)-1):\n",
    "                    freenodes.append(i)  \n",
    "                elif xxl[i]==(len(x)-1):\n",
    "                    if yyl[i]<(len(x)-1):\n",
    "                        freenodes.append(i)\n",
    "                elif yyl[i]==(len(x)-1):\n",
    "                    if xxl[i]<(len(x)-1):\n",
    "                        freenodes.append(i)\n",
    "    return freenodes\n",
    "\n",
    "def Lsolver(x,y,ninit,n):\n",
    "    fn=Lshapefindfreenodes(x,y)\n",
    "    Afree=np.zeros([len(fn),len(fn)])\n",
    "    A,b,mass=Lshapematrixassembly(x,y,ninit,n)\n",
    "    uflat=Lshapedirichletbc(x,y,ninit,n)\n",
    "    for i in range(len(fn)):\n",
    "        Afree[0:len(fn),i]=A[fn,fn[i]]\n",
    "\n",
    "    bfree=b[fn]\n",
    "    uflat[fn]=np.dot(np.linalg.inv(Afree),bfree)\n",
    "    ufound=np.zeros([2*len(x),2*len(y)])\n",
    "    ufound[:len(x),:len(y)]=np.reshape(uflat[:len(x)**2],(len(x),len(y)))\n",
    "    ufound[len(x):,:len(y)]=np.reshape(uflat[len(x)**2:2*len(x)**2],(len(x),len(y)))\n",
    "    ufound[:len(x),len(y):]=np.reshape(uflat[2*len(x)**2:3*len(x)**2],(len(x),len(y)))\n",
    "    return ufound\n",
    "\n",
    "\n",
    "# We repeat the computation for the L2 and H1 error on grids with \n",
    "# decreasing mesh sizes.\n",
    "\n",
    "l2err=np.zeros([4])\n",
    "h1err=np.zeros([4])\n",
    "x=np.linspace(0,2,3)\n",
    "y=x\n",
    "ninit=x.shape[0]\n",
    "n=x.shape[0]\n",
    "ufound=Lsolver(x,y,ninit,n)\n",
    "plt.imshow(ufound)\n",
    "plt.pause(0.1)\n",
    "utruee=uLtrue(x,y,ninit,n)\n",
    "utruee=utruee\n",
    "v=np.abs(utruee.flatten()-ufound.flatten())[:3*n**2]\n",
    "A,b,Mass=Lshapematrixassembly(x,y,ninit,n)\n",
    "l2err[0]=np.dot(v.transpose(),np.dot(Mass,v))\n",
    "h1err[0]=np.dot(v.transpose(),np.dot(Mass,v))+np.dot(v.transpose(),np.dot(A,v))\n",
    "for k in range(3):\n",
    "    n=2*n-1\n",
    "    xup,yup=redrefinement(x,y)\n",
    "    ufound=Lsolver(xup,yup,ninit,n)\n",
    "    ufound=ufound\n",
    "    plt.imshow(ufound)\n",
    "    plt.colorbar()\n",
    "    utruee=uLtrue(xup,yup,ninit,n)\n",
    "    utruee=utruee\n",
    "    v=np.abs(utruee.flatten()-ufound.flatten())[:3*n**2]\n",
    "    A,b,Mass=Lshapematrixassembly(xup,yup,ninit,n)\n",
    "    l2err[k+1]=np.dot(v.transpose(),np.dot(Mass,v))\n",
    "    h1err[k+1]=np.dot(v.transpose(),np.dot(Mass,v))+np.dot(v.transpose(),np.dot(A,v))\n",
    "    plt.pause(0.1)\n",
    "    x=xup\n",
    "    y=yup\n",
    "    \n",
    "h=[1,1/2,1/4,1/8] #distance between nodes\n",
    "plt.plot(h,h1err,label='H1 error')\n",
    "plt.plot(h,l2err,label='L2 error')\n",
    "plt.yscale(\"log\")\n",
    "plt.legend()\n",
    "\n",
    "\n"
   ]
  },
  {
   "cell_type": "markdown",
   "metadata": {},
   "source": [
    "Again, there is a weird issue at the junction between the squares"
   ]
  },
  {
   "cell_type": "code",
   "execution_count": null,
   "metadata": {},
   "outputs": [],
   "source": []
  }
 ],
 "metadata": {
  "kernelspec": {
   "display_name": "Python 3",
   "language": "python",
   "name": "python3"
  },
  "language_info": {
   "codemirror_mode": {
    "name": "ipython",
    "version": 3
   },
   "file_extension": ".py",
   "mimetype": "text/x-python",
   "name": "python",
   "nbconvert_exporter": "python",
   "pygments_lexer": "ipython3",
   "version": "3.7.3"
  }
 },
 "nbformat": 4,
 "nbformat_minor": 2
}
